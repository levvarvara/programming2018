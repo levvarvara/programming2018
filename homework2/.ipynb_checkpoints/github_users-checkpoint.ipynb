{
 "cells": [
  {
   "cell_type": "markdown",
   "metadata": {},
   "source": [
    "Программа умеет выбирать пользователя из заданного списка и распечатывать список его репозиториев с описаниями."
   ]
  },
  {
   "cell_type": "code",
   "execution_count": 7,
   "metadata": {},
   "outputs": [],
   "source": [
    "def repos():\n",
    "    user = random.choice(users)\n",
    "    print(\"Пользователь: \", user)\n",
    "    url = 'https://api.github.com/users/{}/repos'.format(user)\n",
    "    #print(url)\n",
    "    response = urllib.request.urlopen(url)  # посылаем серверу запрос и достаем ответ\n",
    "    text = response.read().decode('utf-8')  # читаем ответ в строку\n",
    "    data = json.loads(text) # превращаем джейсон-строку в объекты питона\n",
    "    #print(\"Количество репозиториев: \",len(data))\n",
    "    for i in data:\n",
    "        print(i[\"name\"], \" \", i[\"description\"])"
   ]
  },
  {
   "cell_type": "code",
   "execution_count": 8,
   "metadata": {},
   "outputs": [
    {
     "name": "stdout",
     "output_type": "stream",
     "text": [
      "Пользователь:  agricolamz\n",
      "2017-MAG_R_course   None\n",
      "2017_ANDAN_course   Course for ANDAN Summer School about strings and texts in R\n",
      "2017_ConCorT_lingtypology   None\n",
      "2017_HSE_SPb_R_introduction   https://agricolamz.github.io/2017_HSE_SPb_R_introduction/\n",
      "2017_m_Instrumental_Phonetics   None\n",
      "2017_WCAD_talk   None\n",
      "2017_Zilo_fieldwork_prezi   None\n",
      "2018-MAG_R_course   None\n",
      "2018.04.21_MSU_acceptability   None\n",
      "2018.05.11_Yerevan_Zilo_classes   None\n",
      "2018.07.29_ANDAN_Agreement   None\n",
      "2018.07.30_LINGDAN_Praat_Elan   None\n",
      "2018.08.02_ANDAN_Shiny   None\n",
      "2018_18.03.20_lingtypology_news   None\n",
      "2018_18.04.28_Grammaticality_shiny   None\n",
      "2018_adyghe_phonology   None\n",
      "2018_ANDAN_course_winter   Course for ANDAN Winter School about rmarkdown:\n",
      "2018_Andia_adjectives   None\n",
      "2018_Andi_relative_clause   None\n",
      "2018_Areal_Patterns   Materials for the course at HSE / LCL Summer School on Areal Linguistics and the Languages of Russia, 10-14.09.2018 with @macleginn\n",
      "2018_data_analysis_for_linguists   Course on Data Analysis for linguists\n",
      "2018_Digital_literacy   None\n",
      "2018_FE_R_statistics   Further Education R course\n",
      "2018_lingdan_organisation   None\n",
      "2018_lingtypology_course_Paris   Short course about R and lingtypology in Paris (19.01.2018)\n",
      "2018_linguistic_geography_Paris   None\n",
      "2018_MYABL   None\n",
      "2018_m_Instrumental_Phonetics   None\n",
      "2018_Phonological_seminar_lingphonology   None\n",
      "2018_RSL_phonology_with_P_Rudnev   None\n"
     ]
    }
   ],
   "source": [
    "from pprint import pprint as pp\n",
    "import json\n",
    "import random\n",
    "import urllib.request\n",
    "#users - глобальная переменная\n",
    "users = [\"elmiram\", \"maryszmary\", \"lizaku\", \n",
    "         \"nevmenandr\", \"ancatmara\", \"roctbb\", \n",
    "         \"akutuzov\", \"agricolamz\", \n",
    "         \"lehkost\", \"kylepjohnson\", \"mikekestemont\", \n",
    "         \"demidovakatya\", \"shwars\", \"JelteF\", \"timgraham\", \n",
    "         \"arogozhnikov\", \"jasny\", \"bcongdon\", \"whyisjake\", \"gvanrossum\"]\n",
    "def main():\n",
    "    repos()\n",
    "\n",
    "if __name__ == '__main__':\n",
    "    main()"
   ]
  }
 ],
 "metadata": {
  "kernelspec": {
   "display_name": "Python 3",
   "language": "python",
   "name": "python3"
  },
  "language_info": {
   "codemirror_mode": {
    "name": "ipython",
    "version": 3
   },
   "file_extension": ".py",
   "mimetype": "text/x-python",
   "name": "python",
   "nbconvert_exporter": "python",
   "pygments_lexer": "ipython3",
   "version": "3.6.5"
  }
 },
 "nbformat": 4,
 "nbformat_minor": 2
}
